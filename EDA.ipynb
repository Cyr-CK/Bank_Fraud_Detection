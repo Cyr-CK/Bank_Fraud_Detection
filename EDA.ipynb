{
 "cells": [
  {
   "cell_type": "markdown",
   "metadata": {},
   "source": [
    "### Importation des données et nettoyage"
   ]
  },
  {
   "cell_type": "code",
   "execution_count": 56,
   "metadata": {},
   "outputs": [],
   "source": [
    "import pandas as pd"
   ]
  },
  {
   "cell_type": "code",
   "execution_count": 57,
   "metadata": {},
   "outputs": [
    {
     "name": "stderr",
     "output_type": "stream",
     "text": [
      "C:\\Users\\DELL\\AppData\\Local\\Temp\\ipykernel_13136\\2539723753.py:1: DtypeWarning: Columns (1,2,5,6,7,8,9,15,16,22) have mixed types. Specify dtype option on import or set low_memory=False.\n",
      "  data = pd.read_csv(\"guillaume.txt\", sep=\";\", na_values=[\"\"])\n"
     ]
    }
   ],
   "source": [
    "data = pd.read_csv(\"guillaume.txt\", sep=\";\", na_values=[\"\"])"
   ]
  },
  {
   "cell_type": "code",
   "execution_count": 31,
   "metadata": {},
   "outputs": [
    {
     "data": {
      "text/html": [
       "<div>\n",
       "<style scoped>\n",
       "    .dataframe tbody tr th:only-of-type {\n",
       "        vertical-align: middle;\n",
       "    }\n",
       "\n",
       "    .dataframe tbody tr th {\n",
       "        vertical-align: top;\n",
       "    }\n",
       "\n",
       "    .dataframe thead th {\n",
       "        text-align: right;\n",
       "    }\n",
       "</style>\n",
       "<table border=\"1\" class=\"dataframe\">\n",
       "  <thead>\n",
       "    <tr style=\"text-align: right;\">\n",
       "      <th></th>\n",
       "      <th>ZIBZIN</th>\n",
       "      <th>IDAvisAutorisationCheque</th>\n",
       "      <th>FlagImpaye</th>\n",
       "      <th>Montant</th>\n",
       "      <th>DateTransaction</th>\n",
       "      <th>CodeDecision</th>\n",
       "      <th>VerifianceCPT1</th>\n",
       "      <th>VerifianceCPT2</th>\n",
       "      <th>VerifianceCPT3</th>\n",
       "      <th>D2CB</th>\n",
       "      <th>...</th>\n",
       "      <th>TauxImpNb_RB</th>\n",
       "      <th>TauxImpNB_CPM</th>\n",
       "      <th>EcartNumCheq</th>\n",
       "      <th>NbrMagasin3J</th>\n",
       "      <th>DiffDateTr1</th>\n",
       "      <th>DiffDateTr2</th>\n",
       "      <th>DiffDateTr3</th>\n",
       "      <th>CA3TRetMtt</th>\n",
       "      <th>CA3TR</th>\n",
       "      <th>Heure</th>\n",
       "    </tr>\n",
       "  </thead>\n",
       "  <tbody>\n",
       "    <tr>\n",
       "      <th>0</th>\n",
       "      <td>A013010004908126703060931</td>\n",
       "      <td>78643044</td>\n",
       "      <td>0</td>\n",
       "      <td>20</td>\n",
       "      <td>2017-02-01 07:32:14</td>\n",
       "      <td>1</td>\n",
       "      <td>0</td>\n",
       "      <td>0</td>\n",
       "      <td>0</td>\n",
       "      <td>551</td>\n",
       "      <td>...</td>\n",
       "      <td>37,186667890919111</td>\n",
       "      <td>52,076033757361408</td>\n",
       "      <td>0</td>\n",
       "      <td>1</td>\n",
       "      <td>4</td>\n",
       "      <td>4</td>\n",
       "      <td>4</td>\n",
       "      <td>20</td>\n",
       "      <td>0</td>\n",
       "      <td>27134</td>\n",
       "    </tr>\n",
       "    <tr>\n",
       "      <th>1</th>\n",
       "      <td>A013011306908024927155000</td>\n",
       "      <td>78643045</td>\n",
       "      <td>0</td>\n",
       "      <td>20</td>\n",
       "      <td>2017-02-01 07:43:37</td>\n",
       "      <td>1</td>\n",
       "      <td>0</td>\n",
       "      <td>0</td>\n",
       "      <td>0</td>\n",
       "      <td>551</td>\n",
       "      <td>...</td>\n",
       "      <td>48,844716275908937</td>\n",
       "      <td>52,076033757361408</td>\n",
       "      <td>1</td>\n",
       "      <td>2</td>\n",
       "      <td>1,7976851851851852</td>\n",
       "      <td>4</td>\n",
       "      <td>4</td>\n",
       "      <td>28,609999999999999</td>\n",
       "      <td>8,6099999999999994</td>\n",
       "      <td>27817</td>\n",
       "    </tr>\n",
       "  </tbody>\n",
       "</table>\n",
       "<p>2 rows × 23 columns</p>\n",
       "</div>"
      ],
      "text/plain": [
       "                      ZIBZIN IDAvisAutorisationCheque FlagImpaye Montant  \\\n",
       "0  A013010004908126703060931                 78643044          0      20   \n",
       "1  A013011306908024927155000                 78643045          0      20   \n",
       "\n",
       "       DateTransaction CodeDecision VerifianceCPT1 VerifianceCPT2  \\\n",
       "0  2017-02-01 07:32:14            1              0              0   \n",
       "1  2017-02-01 07:43:37            1              0              0   \n",
       "\n",
       "  VerifianceCPT3 D2CB  ...        TauxImpNb_RB       TauxImpNB_CPM  \\\n",
       "0              0  551  ...  37,186667890919111  52,076033757361408   \n",
       "1              0  551  ...  48,844716275908937  52,076033757361408   \n",
       "\n",
       "  EcartNumCheq NbrMagasin3J         DiffDateTr1 DiffDateTr2 DiffDateTr3  \\\n",
       "0            0            1                   4           4           4   \n",
       "1            1            2  1,7976851851851852           4           4   \n",
       "\n",
       "           CA3TRetMtt               CA3TR  Heure  \n",
       "0                  20                   0  27134  \n",
       "1  28,609999999999999  8,6099999999999994  27817  \n",
       "\n",
       "[2 rows x 23 columns]"
      ]
     },
     "execution_count": 31,
     "metadata": {},
     "output_type": "execute_result"
    }
   ],
   "source": [
    "data.head(2)"
   ]
  },
  {
   "cell_type": "markdown",
   "metadata": {},
   "source": [
    "Suppression d'une ligne dont les éléments contenant tout simplement le nom de la variable et non la valeur associée"
   ]
  },
  {
   "cell_type": "code",
   "execution_count": 62,
   "metadata": {},
   "outputs": [],
   "source": [
    "print(data.shape)\n",
    "data = data.drop(1956360, axis=0)\n",
    "print(data.shape)"
   ]
  },
  {
   "cell_type": "markdown",
   "metadata": {},
   "source": [
    "Vérification de l'absence de valeurs manquantes"
   ]
  },
  {
   "cell_type": "code",
   "execution_count": 128,
   "metadata": {},
   "outputs": [
    {
     "data": {
      "text/plain": [
       "ZIBZIN  IDAvisAutorisationCheque  FlagImpaye  Montant  DateTransaction  CodeDecision  VerifianceCPT1  VerifianceCPT2  VerifianceCPT3  D2CB   ScoringFP1  ScoringFP2  ScoringFP3  TauxImpNb_RB  TauxImpNB_CPM  EcartNumCheq  NbrMagasin3J  DiffDateTr1  DiffDateTr2  DiffDateTr3  CA3TRetMtt  CA3TR  Heure\n",
       "False   False                     False       False    False            False         False           False           False           False  False       False       False       False         False          False         False         False        False        False        False       False  False    4646773\n",
       "Name: count, dtype: int64"
      ]
     },
     "execution_count": 128,
     "metadata": {},
     "output_type": "execute_result"
    }
   ],
   "source": [
    "data.isna().value_counts()"
   ]
  },
  {
   "cell_type": "markdown",
   "metadata": {},
   "source": [
    "Transtypage des éléments des colonnes de type mixte en un type unique"
   ]
  },
  {
   "cell_type": "code",
   "execution_count": 65,
   "metadata": {},
   "outputs": [
    {
     "name": "stdout",
     "output_type": "stream",
     "text": [
      "ZIBZIN = [<class 'str'>]\n",
      "IDAvisAutorisationCheque = [<class 'int'> <class 'str'>]\n",
      "FlagImpaye = [<class 'int'> <class 'str'>]\n",
      "Montant = [<class 'str'>]\n",
      "DateTransaction = [<class 'str'>]\n",
      "CodeDecision = [<class 'int'> <class 'str'>]\n",
      "VerifianceCPT1 = [<class 'int'> <class 'str'>]\n",
      "VerifianceCPT2 = [<class 'int'> <class 'str'>]\n",
      "VerifianceCPT3 = [<class 'int'> <class 'str'>]\n",
      "D2CB = [<class 'int'> <class 'str'>]\n",
      "ScoringFP1 = [<class 'str'>]\n",
      "ScoringFP2 = [<class 'str'>]\n",
      "ScoringFP3 = [<class 'str'>]\n",
      "TauxImpNb_RB = [<class 'str'>]\n",
      "TauxImpNB_CPM = [<class 'str'>]\n",
      "EcartNumCheq = [<class 'int'> <class 'str'>]\n",
      "NbrMagasin3J = [<class 'int'> <class 'str'>]\n",
      "DiffDateTr1 = [<class 'str'>]\n",
      "DiffDateTr2 = [<class 'str'>]\n",
      "DiffDateTr3 = [<class 'str'>]\n",
      "CA3TRetMtt = [<class 'str'>]\n",
      "CA3TR = [<class 'str'>]\n",
      "Heure = [<class 'int'> <class 'str'>]\n"
     ]
    }
   ],
   "source": [
    "for col in data.columns:\n",
    "    print(f\"{col} = {data[col].apply(type).unique()}\")"
   ]
  },
  {
   "cell_type": "code",
   "execution_count": 129,
   "metadata": {},
   "outputs": [],
   "source": [
    "data[\"IDAvisAutorisationCheque\"] = data[\"IDAvisAutorisationCheque\"].apply(lambda x: str(x) if type(x)==int else x)\n",
    "data[\"FlagImpaye\"] = data[\"FlagImpaye\"].apply(lambda x: str(x) if type(x)==int else x)\n",
    "data[\"Montant\"] = data[\"Montant\"].str.replace(\",\",\".\").apply(lambda x: float(x))\n",
    "# data[\"DateTransaction\"]\n",
    "data[\"CodeDecision\"] = data[\"CodeDecision\"].apply(lambda x: int(x) if type(x)==str else x)\n",
    "data[\"VerifianceCPT1\"] = data[\"VerifianceCPT1\"].apply(lambda x: int(x) if type(x)==str else x)\n",
    "data[\"VerifianceCPT2\"] = data[\"VerifianceCPT2\"].apply(lambda x: int(x) if type(x)==str else x)\n",
    "data[\"VerifianceCPT3\"] = data[\"VerifianceCPT3\"].apply(lambda x: int(x) if type(x)==str else x)\n",
    "data[\"D2CB\"] = data[\"D2CB\"].apply(lambda x: int(x) if type(x)==str else x)\n",
    "data[\"ScoringFP1\"] = data[\"ScoringFP1\"].str.replace(\",\",\".\").apply(lambda x: float(x))\n",
    "data[\"ScoringFP2\"] = data[\"ScoringFP2\"].str.replace(\",\",\".\").apply(lambda x: float(x))\n",
    "data[\"ScoringFP3\"] = data[\"ScoringFP3\"].str.replace(\",\",\".\").apply(lambda x: float(x))\n",
    "data[\"TauxImpNb_RB\"] = data[\"TauxImpNb_RB\"].str.replace(\",\",\".\").apply(lambda x: float(x))\n",
    "data[\"TauxImpNB_CPM\"] = data[\"TauxImpNB_CPM\"].str.replace(\",\",\".\").apply(lambda x: float(x))\n",
    "data[\"EcartNumCheq\"] = data[\"EcartNumCheq\"].apply(lambda x: int(x) if type(x)==str else x)\n",
    "data[\"NbrMagasin3J\"] = data[\"NbrMagasin3J\"].apply(lambda x: int(x) if type(x)==str else x)\n",
    "data[\"DiffDateTr1\"] = data[\"DiffDateTr1\"].str.replace(\",\",\".\").apply(lambda x: float(x))\n",
    "data[\"DiffDateTr2\"] = data[\"DiffDateTr2\"].str.replace(\",\",\".\").apply(lambda x: float(x))\n",
    "data[\"DiffDateTr3\"] = data[\"DiffDateTr3\"].str.replace(\",\",\".\").apply(lambda x: float(x))\n",
    "data[\"CA3TR\"] = data[\"CA3TR\"].str.replace(\",\",\".\").astype(float)\n",
    "data[\"CA3TRetMtt\"] = data[\"CA3TRetMtt\"].str.replace(\",\",\".\").astype(float)\n",
    "data[\"Heure\"] = data[\"Heure\"].apply(lambda x: int(x) if type(x)==str else x)"
   ]
  },
  {
   "cell_type": "code",
   "execution_count": 130,
   "metadata": {},
   "outputs": [
    {
     "name": "stdout",
     "output_type": "stream",
     "text": [
      "ZIBZIN = [<class 'str'>]\n",
      "IDAvisAutorisationCheque = [<class 'str'>]\n",
      "FlagImpaye = [<class 'str'>]\n",
      "Montant = [<class 'float'>]\n",
      "DateTransaction = [<class 'str'>]\n",
      "CodeDecision = [<class 'int'>]\n",
      "VerifianceCPT1 = [<class 'int'>]\n",
      "VerifianceCPT2 = [<class 'int'>]\n",
      "VerifianceCPT3 = [<class 'int'>]\n",
      "D2CB = [<class 'int'>]\n",
      "ScoringFP1 = [<class 'float'>]\n",
      "ScoringFP2 = [<class 'float'>]\n",
      "ScoringFP3 = [<class 'float'>]\n",
      "TauxImpNb_RB = [<class 'float'>]\n",
      "TauxImpNB_CPM = [<class 'float'>]\n",
      "EcartNumCheq = [<class 'int'>]\n",
      "NbrMagasin3J = [<class 'int'>]\n",
      "DiffDateTr1 = [<class 'float'>]\n",
      "DiffDateTr2 = [<class 'float'>]\n",
      "DiffDateTr3 = [<class 'float'>]\n",
      "CA3TRetMtt = [<class 'float'>]\n",
      "CA3TR = [<class 'float'>]\n",
      "Heure = [<class 'int'>]\n"
     ]
    }
   ],
   "source": [
    "for col in data.columns:\n",
    "    print(f\"{col} = {data[col].apply(type).unique()}\")"
   ]
  },
  {
   "cell_type": "markdown",
   "metadata": {},
   "source": [
    "Transformation au format compressé .parquet (+900 Mo -> -300 Mo)"
   ]
  },
  {
   "cell_type": "code",
   "execution_count": 131,
   "metadata": {},
   "outputs": [],
   "source": [
    "data.to_parquet(\"bank_data.parquet\")"
   ]
  },
  {
   "cell_type": "markdown",
   "metadata": {},
   "source": [
    "### Exploratory Data Analysis"
   ]
  },
  {
   "cell_type": "code",
   "execution_count": 1,
   "metadata": {},
   "outputs": [],
   "source": [
    "import pandas as pd\n",
    "import duckdb as ddb\n",
    "import seaborn as sns"
   ]
  },
  {
   "cell_type": "code",
   "execution_count": 2,
   "metadata": {},
   "outputs": [],
   "source": [
    "data = pd.read_parquet(\"bank_data.parquet\")"
   ]
  },
  {
   "cell_type": "code",
   "execution_count": 3,
   "metadata": {},
   "outputs": [
    {
     "data": {
      "text/html": [
       "<div>\n",
       "<style scoped>\n",
       "    .dataframe tbody tr th:only-of-type {\n",
       "        vertical-align: middle;\n",
       "    }\n",
       "\n",
       "    .dataframe tbody tr th {\n",
       "        vertical-align: top;\n",
       "    }\n",
       "\n",
       "    .dataframe thead th {\n",
       "        text-align: right;\n",
       "    }\n",
       "</style>\n",
       "<table border=\"1\" class=\"dataframe\">\n",
       "  <thead>\n",
       "    <tr style=\"text-align: right;\">\n",
       "      <th></th>\n",
       "      <th>ZIBZIN</th>\n",
       "      <th>IDAvisAutorisationCheque</th>\n",
       "      <th>FlagImpaye</th>\n",
       "      <th>Montant</th>\n",
       "      <th>DateTransaction</th>\n",
       "      <th>CodeDecision</th>\n",
       "      <th>VerifianceCPT1</th>\n",
       "      <th>VerifianceCPT2</th>\n",
       "      <th>VerifianceCPT3</th>\n",
       "      <th>D2CB</th>\n",
       "      <th>...</th>\n",
       "      <th>TauxImpNb_RB</th>\n",
       "      <th>TauxImpNB_CPM</th>\n",
       "      <th>EcartNumCheq</th>\n",
       "      <th>NbrMagasin3J</th>\n",
       "      <th>DiffDateTr1</th>\n",
       "      <th>DiffDateTr2</th>\n",
       "      <th>DiffDateTr3</th>\n",
       "      <th>CA3TRetMtt</th>\n",
       "      <th>CA3TR</th>\n",
       "      <th>Heure</th>\n",
       "    </tr>\n",
       "  </thead>\n",
       "  <tbody>\n",
       "    <tr>\n",
       "      <th>0</th>\n",
       "      <td>A013010004908126703060931</td>\n",
       "      <td>78643044</td>\n",
       "      <td>0</td>\n",
       "      <td>20.0</td>\n",
       "      <td>2017-02-01 07:32:14</td>\n",
       "      <td>1</td>\n",
       "      <td>0</td>\n",
       "      <td>0</td>\n",
       "      <td>0</td>\n",
       "      <td>551</td>\n",
       "      <td>...</td>\n",
       "      <td>37.186668</td>\n",
       "      <td>52.076034</td>\n",
       "      <td>0</td>\n",
       "      <td>1</td>\n",
       "      <td>4.000000</td>\n",
       "      <td>4.0</td>\n",
       "      <td>4.0</td>\n",
       "      <td>20.00</td>\n",
       "      <td>0.00</td>\n",
       "      <td>27134</td>\n",
       "    </tr>\n",
       "    <tr>\n",
       "      <th>1</th>\n",
       "      <td>A013011306908024927155000</td>\n",
       "      <td>78643045</td>\n",
       "      <td>0</td>\n",
       "      <td>20.0</td>\n",
       "      <td>2017-02-01 07:43:37</td>\n",
       "      <td>1</td>\n",
       "      <td>0</td>\n",
       "      <td>0</td>\n",
       "      <td>0</td>\n",
       "      <td>551</td>\n",
       "      <td>...</td>\n",
       "      <td>48.844716</td>\n",
       "      <td>52.076034</td>\n",
       "      <td>1</td>\n",
       "      <td>2</td>\n",
       "      <td>1.797685</td>\n",
       "      <td>4.0</td>\n",
       "      <td>4.0</td>\n",
       "      <td>28.61</td>\n",
       "      <td>8.61</td>\n",
       "      <td>27817</td>\n",
       "    </tr>\n",
       "  </tbody>\n",
       "</table>\n",
       "<p>2 rows × 23 columns</p>\n",
       "</div>"
      ],
      "text/plain": [
       "                      ZIBZIN IDAvisAutorisationCheque FlagImpaye  Montant  \\\n",
       "0  A013010004908126703060931                 78643044          0     20.0   \n",
       "1  A013011306908024927155000                 78643045          0     20.0   \n",
       "\n",
       "       DateTransaction  CodeDecision  VerifianceCPT1  VerifianceCPT2  \\\n",
       "0  2017-02-01 07:32:14             1               0               0   \n",
       "1  2017-02-01 07:43:37             1               0               0   \n",
       "\n",
       "   VerifianceCPT3  D2CB  ...  TauxImpNb_RB  TauxImpNB_CPM  EcartNumCheq  \\\n",
       "0               0   551  ...     37.186668      52.076034             0   \n",
       "1               0   551  ...     48.844716      52.076034             1   \n",
       "\n",
       "   NbrMagasin3J  DiffDateTr1  DiffDateTr2  DiffDateTr3  CA3TRetMtt  CA3TR  \\\n",
       "0             1     4.000000          4.0          4.0       20.00   0.00   \n",
       "1             2     1.797685          4.0          4.0       28.61   8.61   \n",
       "\n",
       "   Heure  \n",
       "0  27134  \n",
       "1  27817  \n",
       "\n",
       "[2 rows x 23 columns]"
      ]
     },
     "execution_count": 3,
     "metadata": {},
     "output_type": "execute_result"
    }
   ],
   "source": [
    "data.head(2)"
   ]
  },
  {
   "cell_type": "code",
   "execution_count": null,
   "metadata": {},
   "outputs": [],
   "source": [
    "# sns.barplot(data, x= \"FlagImpaye\");"
   ]
  },
  {
   "cell_type": "code",
   "execution_count": 20,
   "metadata": {},
   "outputs": [
    {
     "data": {
      "image/png": "[encoded data removed]",
      "text/plain": [
       "<Figure size 640x480 with 1 Axes>"
      ]
     },
     "metadata": {},
     "output_type": "display_data"
    }
   ],
   "source": [
    "sns.boxplot(data, x=\"Montant\", y=\"FlagImpaye\", showfliers=False);"
   ]
  },
  {
   "cell_type": "code",
   "execution_count": 22,
   "metadata": {},
   "outputs": [
    {
     "ename": "",
     "evalue": "",
     "output_type": "error",
     "traceback": [
      "\u001b[1;31mCannot execute code, session has been disposed. Please try restarting the Kernel."
     ]
    },
    {
     "ename": "",
     "evalue": "",
     "output_type": "error",
     "traceback": [
      "\u001b[1;31mCannot execute code, session has been disposed. Please try restarting the Kernel. \n",
      "\u001b[1;31mView Jupyter <a href='command:jupyter.viewOutput'>log</a> for further details."
     ]
    }
   ],
   "source": [
    "# sns.boxplot(data, x=\"CodeDecision\", y=\"Montant\", showfliers=False); # très long"
   ]
  },
  {
   "cell_type": "code",
   "execution_count": null,
   "metadata": {},
   "outputs": [],
   "source": [
    "# sns.pairplot(data) # très long"
   ]
  },
  {
   "cell_type": "code",
   "execution_count": 21,
   "metadata": {},
   "outputs": [
    {
     "data": {
      "image/png": "[encoded data removed]",
      "text/plain": [
       "<Figure size 640x480 with 1 Axes>"
      ]
     },
     "metadata": {},
     "output_type": "display_data"
    }
   ],
   "source": [
    "sns.scatterplot(data, x=\"Heure\", y=\"Montant\");"
   ]
  }
 ],
 "metadata": {
  "kernelspec": {
   "display_name": "env-bank-fraud-detection",
   "language": "python",
   "name": "python3"
  },
  "language_info": {
   "codemirror_mode": {
    "name": "ipython",
    "version": 3
   },
   "file_extension": ".py",
   "mimetype": "text/x-python",
   "name": "python",
   "nbconvert_exporter": "python",
   "pygments_lexer": "ipython3",
   "version": "3.11.4"
  }
 },
 "nbformat": 4,
 "nbformat_minor": 2
}
