{
 "cells": [
  {
   "cell_type": "code",
   "execution_count": null,
   "metadata": {},
   "outputs": [],
   "source": [
    "import pandas as pd\n",
    "import matplotlib.pyplot as plt\n",
    "import seaborn as sns\n",
    "# Load the data\n",
    "train_df = pd.read_parquet(\"preprocessed_train_data.parquet\")\n",
    "test_df = pd.read_parquet(\"preprocessed_test_data.parquet\")\n"
   ]
  },
  {
   "cell_type": "code",
   "execution_count": 9,
   "metadata": {},
   "outputs": [
    {
     "name": "stdout",
     "output_type": "stream",
     "text": [
      "Train set shape: (3888468, 11)\n",
      "Test set shape: (747411, 11)\n"
     ]
    }
   ],
   "source": [
    "# Check dataset sizes\n",
    "print(f\"Train set shape: {train_df.shape}\")\n",
    "print(f\"Test set shape: {test_df.shape}\")"
   ]
  },
  {
   "cell_type": "code",
   "execution_count": 10,
   "metadata": {},
   "outputs": [
    {
     "name": "stdout",
     "output_type": "stream",
     "text": [
      "🔹 Distribution des classes dans Train:\n",
      "FlagImpaye\n",
      "0    0.993996\n",
      "1    0.006004\n",
      "Name: proportion, dtype: float64\n",
      "\n",
      "🔹 Distribution des classes dans Test:\n",
      "FlagImpaye\n",
      "0    0.991206\n",
      "1    0.008794\n",
      "Name: proportion, dtype: float64\n"
     ]
    }
   ],
   "source": [
    "# Visualizing class distribution in Train Set\n",
    "plt.figure(figsize=(6, 4))\n",
    "sns.countplot(x=\"FlagImpaye\", data=train_df, palette=\"Set2\")\n",
    "plt.title(\"Class Distribution in Train Set\")\n",
    "plt.xlabel(\"Transaction Status (0 = Non-Fraud, 1 = Fraud)\")\n",
    "plt.ylabel(\"Proportion\")\n",
    "\n",
    "# Adding percentage labels\n",
    "total_train = len(train_df)\n",
    "for p in plt.gca().patches:\n",
    "    percentage = f'{100 * p.get_height() / total_train:.2f}%'\n",
    "    plt.gca().annotate(percentage, (p.get_x() + p.get_width() / 2., p.get_height()),\n",
    "                       ha='center', va='center', fontsize=12, color='black', xytext=(0, 10),\n",
    "                       textcoords='offset points')\n",
    "plt.show()"
   ]
  },
  {
   "cell_type": "code",
   "execution_count": null,
   "metadata": {},
   "outputs": [],
   "source": [
    "# Visualizing class distribution in Test Set\n",
    "plt.figure(figsize=(6, 4))\n",
    "sns.countplot(x=\"FlagImpaye\", data=test_df, palette=\"Set3\")\n",
    "plt.title(\"Class Distribution in Test Set\")\n",
    "plt.xlabel(\"Transaction Status (0 = Non-Fraud, 1 = Fraud)\")\n",
    "plt.ylabel(\"Proportion\")\n",
    "\n",
    "# Adding percentage labels\n",
    "total_test = len(test_df)\n",
    "for p in plt.gca().patches:\n",
    "    percentage = f'{100 * p.get_height() / total_test:.2f}%'\n",
    "    plt.gca().annotate(percentage, (p.get_x() + p.get_width() / 2., p.get_height()),\n",
    "                       ha='center', va='center', fontsize=12, color='black', xytext=(0, 10),\n",
    "                       textcoords='offset points')\n",
    "plt.show()\n"
   ]
  },
  {
   "cell_type": "markdown",
   "metadata": {},
   "source": [
    "Data Preparation"
   ]
  },
  {
   "cell_type": "code",
   "execution_count": 5,
   "metadata": {},
   "outputs": [],
   "source": [
    "X_train = train_df.drop(columns=[\"FlagImpaye\"])\n",
    "y_train = train_df[\"FlagImpaye\"]"
   ]
  },
  {
   "cell_type": "code",
   "execution_count": 6,
   "metadata": {},
   "outputs": [],
   "source": [
    "X_test = test_df.drop(columns=[\"FlagImpaye\"])\n",
    "y_test = test_df[\"FlagImpaye\"]"
   ]
  },
  {
   "cell_type": "markdown",
   "metadata": {},
   "source": [
    "1 - Undersampling dataset"
   ]
  },
  {
   "cell_type": "code",
   "execution_count": null,
   "metadata": {},
   "outputs": [],
   "source": [
    "from imblearn.under_sampling import RandomUnderSampler\n",
    "\n",
    "rus = RandomUnderSampler(random_state=42)\n",
    "X_train_under, y_train_under = rus.fit_resample(X_train, y_train)\n",
    "\n",
    "print(\"🔹 Class Distribution after Undersampling:\")\n",
    "print(pd.Series(y_train_under).value_counts(normalize=True))"
   ]
  },
  {
   "cell_type": "markdown",
   "metadata": {},
   "source": [
    "2 - Oversampling with SMOTE"
   ]
  },
  {
   "cell_type": "code",
   "execution_count": null,
   "metadata": {},
   "outputs": [],
   "source": [
    "from imblearn.over_sampling import SMOTE,ADASYN\n",
    "\n",
    "smote = SMOTE(random_state=42)\n",
    "X_train_over, y_train_over = smote.fit_resample(X_train, y_train)\n",
    "\n",
    "print(\"🔹 Class Distribution after SMOTE Oversampling:\")\n",
    "print(pd.Series(y_train_over).value_counts(normalize=True))\n"
   ]
  },
  {
   "cell_type": "markdown",
   "metadata": {},
   "source": [
    "3 - Hybrid Sampling (SMOTE + Tomek Links)"
   ]
  },
  {
   "cell_type": "code",
   "execution_count": null,
   "metadata": {},
   "outputs": [],
   "source": [
    "from imblearn.combine import SMOTETomek\n",
    "\n",
    "smote_tomek = SMOTETomek(random_state=42)\n",
    "X_train_hybrid, y_train_hybrid = smote_tomek.fit_resample(X_train, y_train)\n",
    "\n",
    "print(\"🔹 Class Distribution after SMOTE + Tomek:\")\n",
    "print(pd.Series(y_train_hybrid).value_counts(normalize=True))"
   ]
  },
  {
   "cell_type": "markdown",
   "metadata": {},
   "source": [
    "4️ - Oversampling with ADASYN"
   ]
  },
  {
   "cell_type": "code",
   "execution_count": null,
   "metadata": {},
   "outputs": [],
   "source": [
    "adasyn = ADASYN(random_state=42)\n",
    "X_train_adasyn, y_train_adasyn = adasyn.fit_resample(X_train, y_train)\n",
    "\n",
    "print(\"🔹 Class Distribution after ADASYN Oversampling:\")\n",
    "print(pd.Series(y_train_adasyn).value_counts(normalize=True))\n"
   ]
  },
  {
   "cell_type": "markdown",
   "metadata": {},
   "source": [
    "### Model Training and Evaluation"
   ]
  },
  {
   "cell_type": "code",
   "execution_count": null,
   "metadata": {},
   "outputs": [],
   "source": [
    "from sklearn.ensemble import RandomForestClassifier\n",
    "from sklearn.metrics import classification_report\n",
    "\n",
    "# Datasets to experiment with\n",
    "datasets = {\n",
    "    \"Original\": (X_train, y_train),\n",
    "    \"Undersampled\": (X_train_under, y_train_under),\n",
    "    \"Oversampled (SMOTE)\": (X_train_over, y_train_over),\n",
    "    \"Hybrid (SMOTE + Tomek)\": (X_train_hybrid, y_train_hybrid),\n",
    "    \"Oversampled (ADASYN)\": (X_train_adasyn, y_train_adasyn),\n",
    "    \"Class Weight Rebalancing\": (X_train, y_train)  # Model will handle the rebalancing\n",
    "}"
   ]
  },
  {
   "cell_type": "code",
   "execution_count": null,
   "metadata": {},
   "outputs": [],
   "source": [
    "# Test set\n",
    "X_test_final = test_df.drop(columns=[\"FlagImpaye\"])\n",
    "y_test_final = test_df[\"FlagImpaye\"]"
   ]
  },
  {
   "cell_type": "code",
   "execution_count": null,
   "metadata": {},
   "outputs": [],
   "source": [
    "# Loop to train and evaluate on each dataset\n",
    "for name, (X_train_exp, y_train_exp) in datasets.items():\n",
    "    print(f\"\\n🔹 Testing Random Forest Model with {name}\")\n",
    "\n",
    "    # Train the model\n",
    "    if name == \"Class Weight Rebalancing\":\n",
    "        model = RandomForestClassifier(n_estimators=100, class_weight=\"balanced\", random_state=42)\n",
    "    else:\n",
    "        model = RandomForestClassifier(n_estimators=100, random_state=42)\n",
    "\n",
    "    model.fit(X_train_exp, y_train_exp)\n",
    "\n",
    "    # Predictions\n",
    "    y_pred = model.predict(X_test_final)\n",
    "\n",
    "    # Evaluation\n",
    "    print(classification_report(y_test_final, y_pred))\n"
   ]
  },
  {
   "cell_type": "markdown",
   "metadata": {},
   "source": [
    "Hyperparameter Tuning with GridSearchCV"
   ]
  },
  {
   "cell_type": "code",
   "execution_count": null,
   "metadata": {},
   "outputs": [],
   "source": [
    "from sklearn.model_selection import GridSearchCV\n",
    "\n",
    "# Hyperparameters to test\n",
    "param_grid = {\n",
    "    'n_estimators': [50, 100, 200],\n",
    "    'max_depth': [None, 10, 20],\n",
    "    'min_samples_split': [2, 5, 10]\n",
    "}\n",
    "\n",
    "# Grid Search\n",
    "grid_search = GridSearchCV(RandomForestClassifier(class_weight=\"balanced\", random_state=42),\n",
    "                           param_grid, scoring=\"f1\", cv=3, verbose=2, n_jobs=-1)\n",
    "\n",
    "# Training Grid Search on the best performing dataset (e.g., SMOTE oversampled)\n",
    "grid_search.fit(X_train_over, y_train_over)\n",
    "\n",
    "print(\"🔹 Best Hyperparameters:\", grid_search.best_params_)"
   ]
  }
 ],
 "metadata": {
  "kernelspec": {
   "display_name": "bank_fraud_env",
   "language": "python",
   "name": "python3"
  },
  "language_info": {
   "codemirror_mode": {
    "name": "ipython",
    "version": 3
   },
   "file_extension": ".py",
   "mimetype": "text/x-python",
   "name": "python",
   "nbconvert_exporter": "python",
   "pygments_lexer": "ipython3",
   "version": "3.12.8"
  }
 },
 "nbformat": 4,
 "nbformat_minor": 2
}
